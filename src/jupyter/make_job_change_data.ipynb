{
 "cells": [
  {
   "cell_type": "code",
   "execution_count": 62,
   "id": "f8593eef",
   "metadata": {},
   "outputs": [],
   "source": [
    "import os\n",
    "import pandas as pd\n",
    "import numpy as np\n",
    "\n",
    "from collections import defaultdict\n",
    "from itertools import permutations"
   ]
  },
  {
   "cell_type": "code",
   "execution_count": 63,
   "id": "1730b382",
   "metadata": {},
   "outputs": [],
   "source": [
    "base_dir = os.path.join('..', '..', 'data')\n",
    "file_name = 'dmd_res_grp_brand.csv'"
   ]
  },
  {
   "cell_type": "code",
   "execution_count": 64,
   "id": "77d5dcc4",
   "metadata": {},
   "outputs": [],
   "source": [
    "project_cd = 'ENT001'\n",
    "fp_vrsn_id = 'FP_2022W15.01'\n",
    "plant_cd = 'K130'\n",
    "job_change_type = 'BRAND'\n",
    "unit_cd = 'MIN'"
   ]
  },
  {
   "cell_type": "code",
   "execution_count": 65,
   "id": "cdac032a",
   "metadata": {},
   "outputs": [],
   "source": [
    "data = pd.read_csv(os.path.join(base_dir, file_name))\n",
    "data.columns = [col.lower() for col in data.columns]"
   ]
  },
  {
   "cell_type": "code",
   "execution_count": 66,
   "id": "e0c1f142",
   "metadata": {},
   "outputs": [],
   "source": [
    "case = defaultdict(list)\n",
    "for res_grp, item_attr03_cd in zip(data['res_grp_cd'], data['item_attr03_cd']):\n",
    "    case[res_grp].append(item_attr03_cd)\n",
    "\n",
    "case_multi = {}\n",
    "for res_grp, item_list in case.items():\n",
    "    if len(item_list) > 1:\n",
    "        case_multi[res_grp] = item_list\n",
    "        \n",
    "for res_grp, item_list in case_multi.items():\n",
    "    comb_items = list(permutations(item_list, 2))\n",
    "    case_multi[res_grp] = comb_items        "
   ]
  },
  {
   "cell_type": "code",
   "execution_count": 67,
   "id": "57adac2a",
   "metadata": {},
   "outputs": [],
   "source": [
    "job_change_list = []\n",
    "for res_grp, comb_items in case_multi.items():\n",
    "    for from_item, to_item in comb_items:\n",
    "        job_change_list.append((res_grp, from_item, to_item))\n",
    "        \n",
    "job_change_df = pd.DataFrame(job_change_list, columns=['res_grp_cd', 'from_res_cd', 'to_res_cd'])"
   ]
  },
  {
   "cell_type": "code",
   "execution_count": 68,
   "id": "ec820d71",
   "metadata": {},
   "outputs": [],
   "source": [
    "job_change_df['working_time'] = np.random.randint(low=10, high=30, size=len(job_change_df))"
   ]
  },
  {
   "cell_type": "code",
   "execution_count": 69,
   "id": "41a994c1",
   "metadata": {},
   "outputs": [],
   "source": [
    "cols = list(job_change_df.columns)\n",
    "\n",
    "job_change_df['fp_vrsn_id'] = fp_vrsn_id\n",
    "job_change_df['plant_cd'] = plant_cd\n",
    "job_change_df['job_change_type'] = job_change_type\n",
    "job_change_df['unit_cd'] = unit_cd\n",
    "\n",
    "job_change_df = job_change_df[['fp_vrsn_id', 'plant_cd', 'job_change_type'] + cols + ['unit_cd']]"
   ]
  },
  {
   "cell_type": "code",
   "execution_count": 71,
   "id": "a0b82e3d",
   "metadata": {
    "scrolled": true
   },
   "outputs": [
    {
     "data": {
      "text/html": [
       "<div>\n",
       "<style scoped>\n",
       "    .dataframe tbody tr th:only-of-type {\n",
       "        vertical-align: middle;\n",
       "    }\n",
       "\n",
       "    .dataframe tbody tr th {\n",
       "        vertical-align: top;\n",
       "    }\n",
       "\n",
       "    .dataframe thead th {\n",
       "        text-align: right;\n",
       "    }\n",
       "</style>\n",
       "<table border=\"1\" class=\"dataframe\">\n",
       "  <thead>\n",
       "    <tr style=\"text-align: right;\">\n",
       "      <th></th>\n",
       "      <th>fp_vrsn_id</th>\n",
       "      <th>plant_cd</th>\n",
       "      <th>job_change_type</th>\n",
       "      <th>res_grp_cd</th>\n",
       "      <th>from_res_cd</th>\n",
       "      <th>to_res_cd</th>\n",
       "      <th>working_time</th>\n",
       "      <th>unit_cd</th>\n",
       "    </tr>\n",
       "  </thead>\n",
       "  <tbody>\n",
       "    <tr>\n",
       "      <th>0</th>\n",
       "      <td>FP_2022W15.01</td>\n",
       "      <td>K130</td>\n",
       "      <td>BRAND</td>\n",
       "      <td>X247</td>\n",
       "      <td>P103054</td>\n",
       "      <td>P103055</td>\n",
       "      <td>19</td>\n",
       "      <td>MIN</td>\n",
       "    </tr>\n",
       "    <tr>\n",
       "      <th>1</th>\n",
       "      <td>FP_2022W15.01</td>\n",
       "      <td>K130</td>\n",
       "      <td>BRAND</td>\n",
       "      <td>X247</td>\n",
       "      <td>P103054</td>\n",
       "      <td>P106005</td>\n",
       "      <td>18</td>\n",
       "      <td>MIN</td>\n",
       "    </tr>\n",
       "    <tr>\n",
       "      <th>2</th>\n",
       "      <td>FP_2022W15.01</td>\n",
       "      <td>K130</td>\n",
       "      <td>BRAND</td>\n",
       "      <td>X247</td>\n",
       "      <td>P103054</td>\n",
       "      <td>P107001</td>\n",
       "      <td>19</td>\n",
       "      <td>MIN</td>\n",
       "    </tr>\n",
       "    <tr>\n",
       "      <th>3</th>\n",
       "      <td>FP_2022W15.01</td>\n",
       "      <td>K130</td>\n",
       "      <td>BRAND</td>\n",
       "      <td>X247</td>\n",
       "      <td>P103054</td>\n",
       "      <td>P107003</td>\n",
       "      <td>11</td>\n",
       "      <td>MIN</td>\n",
       "    </tr>\n",
       "    <tr>\n",
       "      <th>4</th>\n",
       "      <td>FP_2022W15.01</td>\n",
       "      <td>K130</td>\n",
       "      <td>BRAND</td>\n",
       "      <td>X247</td>\n",
       "      <td>P103054</td>\n",
       "      <td>P107072</td>\n",
       "      <td>15</td>\n",
       "      <td>MIN</td>\n",
       "    </tr>\n",
       "  </tbody>\n",
       "</table>\n",
       "</div>"
      ],
      "text/plain": [
       "      fp_vrsn_id plant_cd job_change_type res_grp_cd from_res_cd to_res_cd  \\\n",
       "0  FP_2022W15.01     K130           BRAND       X247     P103054   P103055   \n",
       "1  FP_2022W15.01     K130           BRAND       X247     P103054   P106005   \n",
       "2  FP_2022W15.01     K130           BRAND       X247     P103054   P107001   \n",
       "3  FP_2022W15.01     K130           BRAND       X247     P103054   P107003   \n",
       "4  FP_2022W15.01     K130           BRAND       X247     P103054   P107072   \n",
       "\n",
       "   working_time unit_cd  \n",
       "0            19     MIN  \n",
       "1            18     MIN  \n",
       "2            19     MIN  \n",
       "3            11     MIN  \n",
       "4            15     MIN  "
      ]
     },
     "execution_count": 71,
     "metadata": {},
     "output_type": "execute_result"
    }
   ],
   "source": [
    "job_change_df.head()"
   ]
  },
  {
   "cell_type": "code",
   "execution_count": 72,
   "id": "93629bbe",
   "metadata": {},
   "outputs": [],
   "source": [
    "job_change_df.to_csv(os.path.join(base_dir, 'job_change_temp.csv'), index=False)"
   ]
  },
  {
   "cell_type": "code",
   "execution_count": null,
   "id": "8b87c074",
   "metadata": {},
   "outputs": [],
   "source": []
  },
  {
   "cell_type": "code",
   "execution_count": null,
   "id": "39ee570c",
   "metadata": {},
   "outputs": [],
   "source": []
  }
 ],
 "metadata": {
  "kernelspec": {
   "display_name": "Python 3 (ipykernel)",
   "language": "python",
   "name": "python3"
  },
  "language_info": {
   "codemirror_mode": {
    "name": "ipython",
    "version": 3
   },
   "file_extension": ".py",
   "mimetype": "text/x-python",
   "name": "python",
   "nbconvert_exporter": "python",
   "pygments_lexer": "ipython3",
   "version": "3.8.10"
  }
 },
 "nbformat": 4,
 "nbformat_minor": 5
}
