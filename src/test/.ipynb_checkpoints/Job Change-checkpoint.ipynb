{
 "cells": [
  {
   "cell_type": "code",
   "execution_count": 3,
   "id": "9e5b15ed",
   "metadata": {},
   "outputs": [],
   "source": [
    "from optseq import Model, Mode, Parameters, Activity, Resource"
   ]
  },
  {
   "cell_type": "code",
   "execution_count": null,
   "id": "5a87a65d",
   "metadata": {},
   "outputs": [],
   "source": [
    "rs = m1.addResource(\"line1\", 1)\n",
    "\n",
    "act = {}\n",
    "mode = {}\n",
    "for i in duration:\n",
    "    act[i] = m1.addActivity(f\"Act_{i}\")\n",
    "    mode[i] = Mode(f\"Mode_{i}\", duration[i])\n",
    "    mode[i].addResource(rs, {(0, \"inf\"): 1})\n",
    "    act[i].addModes(mode[i])\n",
    "\n",
    "s1 = m1.addState(\"Setup_State\")\n",
    "s1.addValue(time=0, value=s[\"start\"])\n",
    "# setup mode\n",
    "mode_setup = {}\n",
    "for (i, j) in setup:\n",
    "    mode_setup[i, j] = Mode(f\"Mode_setup_{i}_{j}\", setup[i, j])\n",
    "    mode_setup[i, j].addState(s1, s[i], s[j])\n",
    "    if setup[i, j] != 0:\n",
    "        mode_setup[i, j].addResource(rs, {(0, setup[i, j]): 1})\n",
    "\n",
    "    #print (i,j,s[i],s[j],mode_setup[i,j])\n",
    "\n",
    "act_setup = {}\n",
    "for k in duration:\n",
    "    act_setup[k] = m1.addActivity(f\"Setup_{k}\", autoselect=True)\n",
    "    for (i, j) in setup:\n",
    "        if k == j:\n",
    "            act_setup[k].addModes(mode_setup[i, j])\n",
    "\n",
    "# temporal (precedense) constraints\n",
    "for j in act_setup:\n",
    "    m1.addTemporal(act_setup[j], act[j], \"CS\")\n",
    "    m1.addTemporal(act[j], act_setup[j], \"SC\")\n",
    "\n",
    "m1.Params.TimeLimit = 1\n",
    "m1.Params.Makespan = True\n",
    "m1.optimize()"
   ]
  },
  {
   "cell_type": "code",
   "execution_count": null,
   "id": "78b56677",
   "metadata": {},
   "outputs": [],
   "source": [
    "model = Model()\n",
    "duration = {\"A1\": 30, \"A2\": 30, \"B1\": 20, 'B2': 20}\n",
    "\n",
    "setup = {(\"A1\", \"A2\"): 10, (\"A1\", \"B1\"): 0, (\"A1\", \"B2\"): 0,  (\"A1\", \"start\"): 0\n",
    "         (\"A1\", \"A2\"): 10, (\"A1\", \"B1\"): 0, (\"A1\", \"B2\"): 0, \n",
    "         (\"A1\", \"A2\"): 10, (\"A1\", \"B1\"): 0, (\"A1\", \"B2\"): 0, \n",
    "         (\"A1\", \"A2\"): 10, (\"A1\", \"B1\"): 0, (\"A1\", \"B2\"): 0, }\n",
    "\n",
    "s = {\"D\": 1, \"E\": 2, \"F\": 3, \"start\": 0}"
   ]
  },
  {
   "cell_type": "code",
   "execution_count": null,
   "id": "1d362532",
   "metadata": {},
   "outputs": [],
   "source": [
    "rs1 = model.\n",
    "rs = m1.addResource(\"line1\", 1)"
   ]
  },
  {
   "cell_type": "code",
   "execution_count": null,
   "id": "c83ec427",
   "metadata": {},
   "outputs": [],
   "source": []
  },
  {
   "cell_type": "code",
   "execution_count": null,
   "id": "f217defc",
   "metadata": {},
   "outputs": [],
   "source": []
  },
  {
   "cell_type": "code",
   "execution_count": null,
   "id": "6c4d732f",
   "metadata": {},
   "outputs": [],
   "source": []
  },
  {
   "cell_type": "code",
   "execution_count": null,
   "id": "7c3ef3ad",
   "metadata": {},
   "outputs": [],
   "source": []
  }
 ],
 "metadata": {
  "kernelspec": {
   "display_name": "Python 3 (ipykernel)",
   "language": "python",
   "name": "python3"
  },
  "language_info": {
   "codemirror_mode": {
    "name": "ipython",
    "version": 3
   },
   "file_extension": ".py",
   "mimetype": "text/x-python",
   "name": "python",
   "nbconvert_exporter": "python",
   "pygments_lexer": "ipython3",
   "version": "3.8.10"
  }
 },
 "nbformat": 4,
 "nbformat_minor": 5
}
