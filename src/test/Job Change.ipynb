{
 "cells": [
  {
   "cell_type": "code",
   "execution_count": 3,
   "id": "2d097ef0",
   "metadata": {},
   "outputs": [],
   "source": [
    "from optseq import Model, Mode, Parameters, Activity, Resource"
   ]
  },
  {
   "cell_type": "code",
   "execution_count": 44,
   "id": "78b56677",
   "metadata": {
    "scrolled": true
   },
   "outputs": [],
   "source": [
    "duration = {\"A1\": 30, \"A2\": 30, \"B1\": 20, 'B2': 20}\n",
    "\n",
    "setup = {\n",
    "    (\"A1\", \"A2\"): 10, (\"A1\", \"B1\"): 0, (\"A1\", \"B2\"): 0, (\"A1\", \"start\"): 0,\n",
    "    (\"A2\", \"A1\"): 20, (\"A2\", \"B1\"): 0, (\"A2\", \"B2\"): 0, (\"A2\", \"start\"): 0,\n",
    "    (\"B1\", \"A1\"): 0, (\"B1\", \"A2\"): 0, (\"B1\", \"B2\"): 30, (\"B1\", \"start\"): 0,\n",
    "    (\"B2\", \"A1\"): 0, (\"B2\", \"A2\"): 0, (\"B2\", \"B1\"): 40, (\"B2\", \"start\"): 0,\n",
    "    (\"start\", \"A1\"): 0, (\"start\", \"A2\"): 0, (\"start\", \"B1\"): 40, (\"start\", \"B2\"): 0,\n",
    "}\n",
    "\n",
    "state_dict = {\"start\": 0, \"A1\": 1, \"A2\": 2, \"B1\": 3, 'B2': 4}"
   ]
  },
  {
   "cell_type": "code",
   "execution_count": 45,
   "id": "8e94abad",
   "metadata": {},
   "outputs": [],
   "source": [
    "model = Model()"
   ]
  },
  {
   "cell_type": "code",
   "execution_count": 46,
   "id": "1d362532",
   "metadata": {},
   "outputs": [],
   "source": [
    "rs1 = model.addResource(\"line1\", 1)\n",
    "rs2 = model.addResource(\"line2\", 1)"
   ]
  },
  {
   "cell_type": "code",
   "execution_count": 47,
   "id": "c83ec427",
   "metadata": {},
   "outputs": [],
   "source": [
    "act = {}\n",
    "mode = {}\n",
    "for demand in duration:\n",
    "    act[demand] = model.addActivity(f\"Act[{demand}]\")\n",
    "    mode[demand] = Mode(f\"Mode[{demand}]\", duration[demand])\n",
    "    if demand[0] == 'A':\n",
    "        mode[demand].addResource(rs1, {(0, \"inf\"): 1})\n",
    "        act[demand].addModes(mode[demand])\n",
    "    elif demand[0] == 'B':\n",
    "        mode[demand].addResource(rs2, {(0, \"inf\"): 1})\n",
    "        act[demand].addModes(mode[demand])"
   ]
  },
  {
   "cell_type": "code",
   "execution_count": 48,
   "id": "6c4d732f",
   "metadata": {},
   "outputs": [],
   "source": [
    "state = model.addState(\"Setup_State\")\n",
    "state.addValue(time=0, value=state_dict[\"start\"])"
   ]
  },
  {
   "cell_type": "code",
   "execution_count": 49,
   "id": "7c3ef3ad",
   "metadata": {},
   "outputs": [],
   "source": [
    "# setup mode\n",
    "mode_setup = {}\n",
    "for (i, j) in setup:\n",
    "    mode_setup[i, j] = Mode(f\"Mode_setup_{i}_{j}\", setup[i, j])\n",
    "    mode_setup[i, j].addState(state, state_dict[i], state_dict[j])\n",
    "    if setup[i, j] != 0:\n",
    "        if j[0] == 'A':\n",
    "            mode_setup[i, j].addResource(rs1, {(0, setup[i, j]): 1})\n",
    "        elif j[0] == 'B':\n",
    "            mode_setup[i, j].addResource(rs2, {(0, setup[i, j]): 1})\n",
    "        else:\n",
    "            mode_setup[i, j].addResource(rs1, {(0, setup[i, j]): 1})\n",
    "            mode_setup[i, j].addResource(rs2, {(0, setup[i, j]): 1})"
   ]
  },
  {
   "cell_type": "code",
   "execution_count": 50,
   "id": "73fbddf8",
   "metadata": {},
   "outputs": [],
   "source": [
    "act_setup = {}\n",
    "for k in duration:\n",
    "    act_setup[k] = model.addActivity(f\"Setup[{k}]\", autoselect=True)\n",
    "    for (i, j) in setup:\n",
    "        if k == j:\n",
    "            act_setup[k].addModes(mode_setup[i, j])"
   ]
  },
  {
   "cell_type": "code",
   "execution_count": 51,
   "id": "02823ca4",
   "metadata": {},
   "outputs": [],
   "source": [
    "# temporal (precedense) constraints\n",
    "for j in act_setup:\n",
    "    model.addTemporal(act_setup[j], act[j], \"CS\")\n",
    "    model.addTemporal(act[j], act_setup[j], \"SC\")"
   ]
  },
  {
   "cell_type": "code",
   "execution_count": 52,
   "id": "b25729c6",
   "metadata": {},
   "outputs": [],
   "source": [
    "model.Params.TimeLimit = 10\n",
    "model.Params.Makespan = True"
   ]
  },
  {
   "cell_type": "code",
   "execution_count": 53,
   "id": "47773f40",
   "metadata": {},
   "outputs": [
    {
     "name": "stdout",
     "output_type": "stream",
     "text": [
      "\n",
      " ================ Now solving the problem ================ \n",
      "\n",
      "\n",
      "Solutions:\n",
      "    source   ---     0     0\n",
      "      sink   ---    60    60\n",
      "   Act[A1]   ---     0    30\n",
      "   Act[A2]   ---    30    60\n",
      "   Act[B1]   ---     1    21\n",
      "   Act[B2]   ---    31    51\n",
      " Setup[A1] Mode_setup_start_A1     0     0\n",
      " Setup[A2] Mode_setup_B1_A2    30    30\n",
      " Setup[B1] Mode_setup_A1_B1     1     1\n",
      " Setup[B2] Mode_setup_A2_B2    31    31\n"
     ]
    }
   ],
   "source": [
    "model.optimize()"
   ]
  },
  {
   "cell_type": "code",
   "execution_count": null,
   "id": "4110dc17",
   "metadata": {},
   "outputs": [],
   "source": []
  }
 ],
 "metadata": {
  "kernelspec": {
   "display_name": "Python 3 (ipykernel)",
   "language": "python",
   "name": "python3"
  },
  "language_info": {
   "codemirror_mode": {
    "name": "ipython",
    "version": 3
   },
   "file_extension": ".py",
   "mimetype": "text/x-python",
   "name": "python",
   "nbconvert_exporter": "python",
   "pygments_lexer": "ipython3",
   "version": "3.8.10"
  }
 },
 "nbformat": 4,
 "nbformat_minor": 5
}
