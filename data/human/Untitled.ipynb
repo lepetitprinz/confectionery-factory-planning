{
 "cells": [
  {
   "cell_type": "code",
   "execution_count": 8,
   "id": "e4c6e147",
   "metadata": {},
   "outputs": [],
   "source": [
    "import pandas as pd"
   ]
  },
  {
   "cell_type": "code",
   "execution_count": 12,
   "id": "a18766a1",
   "metadata": {},
   "outputs": [
    {
     "data": {
      "text/html": [
       "<div>\n",
       "<style scoped>\n",
       "    .dataframe tbody tr th:only-of-type {\n",
       "        vertical-align: middle;\n",
       "    }\n",
       "\n",
       "    .dataframe tbody tr th {\n",
       "        vertical-align: top;\n",
       "    }\n",
       "\n",
       "    .dataframe thead th {\n",
       "        text-align: right;\n",
       "    }\n",
       "</style>\n",
       "<table border=\"1\" class=\"dataframe\">\n",
       "  <thead>\n",
       "    <tr style=\"text-align: right;\">\n",
       "      <th></th>\n",
       "      <th>plant_cd</th>\n",
       "      <th>yy</th>\n",
       "      <th>week</th>\n",
       "      <th>floor</th>\n",
       "      <th>m_val</th>\n",
       "      <th>w_val</th>\n",
       "    </tr>\n",
       "  </thead>\n",
       "  <tbody>\n",
       "    <tr>\n",
       "      <th>0</th>\n",
       "      <td>K130</td>\n",
       "      <td>2022</td>\n",
       "      <td>W18</td>\n",
       "      <td>A</td>\n",
       "      <td>7</td>\n",
       "      <td>5</td>\n",
       "    </tr>\n",
       "  </tbody>\n",
       "</table>\n",
       "</div>"
      ],
      "text/plain": [
       "  plant_cd    yy week floor  m_val  w_val\n",
       "0     K130  2022  W18     A      7      5"
      ]
     },
     "execution_count": 12,
     "metadata": {},
     "output_type": "execute_result"
    }
   ],
   "source": [
    "capacity = pd.read_csv('human_capacity_temp.csv') \n",
    "capacity = capacity.drop(columns='Unnamed: 0')\n",
    "capacity"
   ]
  },
  {
   "cell_type": "code",
   "execution_count": 14,
   "id": "912928d7",
   "metadata": {},
   "outputs": [],
   "source": [
    "add_data = {\n",
    "    'plant_cd': ['K110', 'K120', 'K140'],\n",
    "    'yy': ['2022', '2022', '2022'],\n",
    "    'week': ['W18', 'W18', 'W18'],\n",
    "    'floor': ['A', 'A', 'A'],\n",
    "    'm_val': [7, 7, 7],\n",
    "    'w_val': [5, 5, 5],\n",
    "}"
   ]
  },
  {
   "cell_type": "code",
   "execution_count": 15,
   "id": "ba89415c",
   "metadata": {},
   "outputs": [],
   "source": [
    "capacity2 = pd.DataFrame(add_data)\n",
    "capacity = pd.concat([capacity, capacity2])"
   ]
  },
  {
   "cell_type": "code",
   "execution_count": 17,
   "id": "2262afcd",
   "metadata": {},
   "outputs": [],
   "source": [
    "capacity.to_csv('human_capacity_temp.csv')"
   ]
  },
  {
   "cell_type": "code",
   "execution_count": null,
   "id": "33f411cf",
   "metadata": {},
   "outputs": [],
   "source": []
  }
 ],
 "metadata": {
  "kernelspec": {
   "display_name": "Python 3 (ipykernel)",
   "language": "python",
   "name": "python3"
  },
  "language_info": {
   "codemirror_mode": {
    "name": "ipython",
    "version": 3
   },
   "file_extension": ".py",
   "mimetype": "text/x-python",
   "name": "python",
   "nbconvert_exporter": "python",
   "pygments_lexer": "ipython3",
   "version": "3.8.10"
  }
 },
 "nbformat": 4,
 "nbformat_minor": 5
}
